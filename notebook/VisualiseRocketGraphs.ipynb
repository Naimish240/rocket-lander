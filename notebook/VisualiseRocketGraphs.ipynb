{
  "nbformat": 4,
  "nbformat_minor": 0,
  "metadata": {
    "colab": {
      "name": "VisualiseRocketGraphs.ipynb",
      "provenance": [],
      "collapsed_sections": [
        "5oizqSeN1axx",
        "C-22qrre1eJ8",
        "eK6ScH6a44cN",
        "AYyaXO5X1ic6",
        "mkuNvBmt3keA",
        "KkAh2IqO3m5O",
        "v6x7dejR3po6"
      ]
    },
    "kernelspec": {
      "name": "python3",
      "display_name": "Python 3"
    },
    "language_info": {
      "name": "python"
    }
  },
  "cells": [
    {
      "cell_type": "markdown",
      "metadata": {
        "id": "Zwbww_v00Txx"
      },
      "source": [
        "#**Visualising Rocket's Simulation Results in Python**\n",
        "\n",
        "---\n",
        "2nd June 2021\n",
        "\n",
        "Author : [Naimish Mani B](https://www.linkedin.com/in/naimish-balaji-a6182b180/)\n",
        "\n",
        "\n",
        "[Repo](https://github.com/Naimish240/rocket-lander)\n",
        "\n",
        "---\n",
        "Libraries Used:\n",
        "- mat73\n",
        "- Pandas\n",
        "- Numpy\n",
        "- MatPlotLib\n",
        "\n",
        "---\n",
        "\n",
        "This is a companion notebook to briefly summarise the results of the Simulink Simulation. The variables logged are as follows:\n",
        "\n",
        "- h (height at which the rocket is flying at)\n",
        "- x (downrange position of the rocket)\n",
        "- v (velocity of the rocket)\n",
        "- tht (pitch angle of the rocket)\n",
        "- t (time)\n",
        "\n",
        "\n",
        "**NOTE**:\n",
        "\n",
        "The flight was broken up into two parts, one being powered liftoff and other being powered descent. The PID controller was only active during the powered descent phase."
      ]
    },
    {
      "cell_type": "markdown",
      "metadata": {
        "id": "5oizqSeN1axx"
      },
      "source": [
        "# Setup"
      ]
    },
    {
      "cell_type": "markdown",
      "metadata": {
        "id": "uGQUw-yN0UaI"
      },
      "source": [
        "First, we need to install mat73 in order to read the data from Simulink."
      ]
    },
    {
      "cell_type": "code",
      "metadata": {
        "colab": {
          "base_uri": "https://localhost:8080/"
        },
        "id": "kKcPPc3dvk8I",
        "outputId": "4e48fdd0-77f6-400b-9c0f-7a8a4fe7d072"
      },
      "source": [
        "!pip install mat73"
      ],
      "execution_count": 1,
      "outputs": [
        {
          "output_type": "stream",
          "text": [
            "Collecting mat73\n",
            "  Downloading https://files.pythonhosted.org/packages/fe/91/937025d314d66b9e868be94e190a93b5c423db16ee998a559681a81b987e/mat73-0.46-py3-none-any.whl\n",
            "Requirement already satisfied: h5py in /usr/local/lib/python3.7/dist-packages (from mat73) (3.1.0)\n",
            "Requirement already satisfied: numpy in /usr/local/lib/python3.7/dist-packages (from mat73) (1.19.5)\n",
            "Requirement already satisfied: cached-property; python_version < \"3.8\" in /usr/local/lib/python3.7/dist-packages (from h5py->mat73) (1.5.2)\n",
            "Installing collected packages: mat73\n",
            "Successfully installed mat73-0.46\n"
          ],
          "name": "stdout"
        }
      ]
    },
    {
      "cell_type": "markdown",
      "metadata": {
        "id": "jTqkrHvw0U4x"
      },
      "source": [
        "As I had already uploaded the simulation results to a Google Drive folder, we are downloading the same here."
      ]
    },
    {
      "cell_type": "code",
      "metadata": {
        "colab": {
          "base_uri": "https://localhost:8080/"
        },
        "id": "V7j8T6msyErq",
        "outputId": "38e0224b-347f-43a3-a156-5ee946a311fb"
      },
      "source": [
        "!gdown --id 1PIhZC3UP20AB7CAROLkG0wDm9btuGUAk\n",
        "!unzip data.zip\n",
        "!ls"
      ],
      "execution_count": 30,
      "outputs": [
        {
          "output_type": "stream",
          "text": [
            "Downloading...\n",
            "From: https://drive.google.com/uc?id=1PIhZC3UP20AB7CAROLkG0wDm9btuGUAk\n",
            "To: /content/data.zip\n",
            "\r  0% 0.00/76.6k [00:00<?, ?B/s]\r100% 76.6k/76.6k [00:00<00:00, 26.9MB/s]\n",
            "Archive:  data.zip\n",
            "replace h.mat? [y]es, [n]o, [A]ll, [N]one, [r]ename: A\n",
            "  inflating: h.mat                   \n",
            "  inflating: theta.mat               \n",
            "  inflating: timer.mat               \n",
            "  inflating: v.mat                   \n",
            "  inflating: x.mat                   \n",
            "data.zip  h.mat  sample_data  theta.mat  timer.mat  v.mat  x.mat\n"
          ],
          "name": "stdout"
        }
      ]
    },
    {
      "cell_type": "markdown",
      "metadata": {
        "id": "d0N-F9HU0WP-"
      },
      "source": [
        "Now that we've downloaded and extracted the required files, we can continue ahead."
      ]
    },
    {
      "cell_type": "markdown",
      "metadata": {
        "id": "C-22qrre1eJ8"
      },
      "source": [
        "# Loading the Files\n",
        "\n",
        "Before we can start the visualisations, we need to load the files into memory. We shall do that here."
      ]
    },
    {
      "cell_type": "code",
      "metadata": {
        "id": "l1CSzOMgvtKQ"
      },
      "source": [
        "# Import statements\n",
        "import mat73\n",
        "import pandas as pd\n",
        "import matplotlib.pyplot as plt"
      ],
      "execution_count": 9,
      "outputs": []
    },
    {
      "cell_type": "code",
      "metadata": {
        "id": "AvtpVrz7yyRN"
      },
      "source": [
        "# Load four variables\n",
        "h = mat73.loadmat('./h.mat')\n",
        "t = mat73.loadmat('./timer.mat')\n",
        "x = mat73.loadmat('./x.mat')\n",
        "v = mat73.loadmat('./v.mat')\n",
        "tht = mat73.loadmat('./theta.mat')"
      ],
      "execution_count": 16,
      "outputs": []
    },
    {
      "cell_type": "code",
      "metadata": {
        "colab": {
          "base_uri": "https://localhost:8080/"
        },
        "id": "tK2JJFBfzU5e",
        "outputId": "6a22e8f7-573f-45cd-e5aa-880ed08b68f3"
      },
      "source": [
        "# Verify dict keys\n",
        "print(h.keys())\n",
        "print(t.keys())\n",
        "print(x.keys())\n",
        "print(v.keys())\n",
        "print(tht.keys())"
      ],
      "execution_count": 17,
      "outputs": [
        {
          "output_type": "stream",
          "text": [
            "dict_keys(['h'])\n",
            "dict_keys(['t'])\n",
            "dict_keys(['x'])\n",
            "dict_keys(['v'])\n",
            "dict_keys(['tht'])\n"
          ],
          "name": "stdout"
        }
      ]
    },
    {
      "cell_type": "code",
      "metadata": {
        "id": "is0rluRozYKw"
      },
      "source": [
        "# Index '0' of all arrays is the timestamp\n",
        "# Index '1' stores the values we want\n",
        "h_vals = h['h'][1]\n",
        "t_vals = t['t'][1]\n",
        "x_vals = x['x'][1]\n",
        "v_vals = v['v'][1]\n",
        "tht_vals = tht['tht'][1]"
      ],
      "execution_count": 19,
      "outputs": []
    },
    {
      "cell_type": "code",
      "metadata": {
        "id": "bwfZDu4uzZiR"
      },
      "source": [
        "# Create DataFrame\n",
        "df = pd.DataFrame()\n",
        "\n",
        "# Insert into dataframe\n",
        "df['t'] = t_vals\n",
        "df['x'] = x_vals\n",
        "df['h'] = h_vals\n",
        "df['v'] = v_vals\n",
        "df['tht'] = tht_vals"
      ],
      "execution_count": 38,
      "outputs": []
    },
    {
      "cell_type": "markdown",
      "metadata": {
        "id": "eK6ScH6a44cN"
      },
      "source": [
        "## Check if values are loaded properly"
      ]
    },
    {
      "cell_type": "code",
      "metadata": {
        "colab": {
          "base_uri": "https://localhost:8080/",
          "height": 425
        },
        "id": "SdzO0vZl44Ok",
        "outputId": "13578583-d694-4326-942c-45cef685d218"
      },
      "source": [
        "# Sanity check dataframe\n",
        "print(df.info())\n",
        "df.head()"
      ],
      "execution_count": 39,
      "outputs": [
        {
          "output_type": "stream",
          "text": [
            "<class 'pandas.core.frame.DataFrame'>\n",
            "RangeIndex: 1143 entries, 0 to 1142\n",
            "Data columns (total 5 columns):\n",
            " #   Column  Non-Null Count  Dtype  \n",
            "---  ------  --------------  -----  \n",
            " 0   t       1143 non-null   float64\n",
            " 1   x       1143 non-null   float64\n",
            " 2   h       1143 non-null   float64\n",
            " 3   v       1143 non-null   float64\n",
            " 4   tht     1143 non-null   float64\n",
            "dtypes: float64(5)\n",
            "memory usage: 44.8 KB\n",
            "None\n"
          ],
          "name": "stdout"
        },
        {
          "output_type": "execute_result",
          "data": {
            "text/html": [
              "<div>\n",
              "<style scoped>\n",
              "    .dataframe tbody tr th:only-of-type {\n",
              "        vertical-align: middle;\n",
              "    }\n",
              "\n",
              "    .dataframe tbody tr th {\n",
              "        vertical-align: top;\n",
              "    }\n",
              "\n",
              "    .dataframe thead th {\n",
              "        text-align: right;\n",
              "    }\n",
              "</style>\n",
              "<table border=\"1\" class=\"dataframe\">\n",
              "  <thead>\n",
              "    <tr style=\"text-align: right;\">\n",
              "      <th></th>\n",
              "      <th>t</th>\n",
              "      <th>x</th>\n",
              "      <th>h</th>\n",
              "      <th>v</th>\n",
              "      <th>tht</th>\n",
              "    </tr>\n",
              "  </thead>\n",
              "  <tbody>\n",
              "    <tr>\n",
              "      <th>0</th>\n",
              "      <td>0.000000</td>\n",
              "      <td>0.001</td>\n",
              "      <td>0.001000</td>\n",
              "      <td>0.001000</td>\n",
              "      <td>1.570796</td>\n",
              "    </tr>\n",
              "    <tr>\n",
              "      <th>1</th>\n",
              "      <td>0.000695</td>\n",
              "      <td>0.001</td>\n",
              "      <td>0.001002</td>\n",
              "      <td>0.002842</td>\n",
              "      <td>1.570796</td>\n",
              "    </tr>\n",
              "    <tr>\n",
              "      <th>2</th>\n",
              "      <td>0.001390</td>\n",
              "      <td>0.001</td>\n",
              "      <td>0.001005</td>\n",
              "      <td>0.004684</td>\n",
              "      <td>1.570796</td>\n",
              "    </tr>\n",
              "    <tr>\n",
              "      <th>3</th>\n",
              "      <td>0.002085</td>\n",
              "      <td>0.001</td>\n",
              "      <td>0.001009</td>\n",
              "      <td>0.006526</td>\n",
              "      <td>1.570796</td>\n",
              "    </tr>\n",
              "    <tr>\n",
              "      <th>4</th>\n",
              "      <td>0.005125</td>\n",
              "      <td>0.001</td>\n",
              "      <td>0.001042</td>\n",
              "      <td>0.014583</td>\n",
              "      <td>1.570796</td>\n",
              "    </tr>\n",
              "  </tbody>\n",
              "</table>\n",
              "</div>"
            ],
            "text/plain": [
              "          t      x         h         v       tht\n",
              "0  0.000000  0.001  0.001000  0.001000  1.570796\n",
              "1  0.000695  0.001  0.001002  0.002842  1.570796\n",
              "2  0.001390  0.001  0.001005  0.004684  1.570796\n",
              "3  0.002085  0.001  0.001009  0.006526  1.570796\n",
              "4  0.005125  0.001  0.001042  0.014583  1.570796"
            ]
          },
          "metadata": {
            "tags": []
          },
          "execution_count": 39
        }
      ]
    },
    {
      "cell_type": "markdown",
      "metadata": {
        "id": "nrCt_DZU2clL"
      },
      "source": [
        "From this, we can see that the data has been loaded into memory successfully."
      ]
    },
    {
      "cell_type": "markdown",
      "metadata": {
        "id": "AYyaXO5X1ic6"
      },
      "source": [
        "# Understanding the Data\n",
        "We briefly look at the logged data to make preliminary inferences."
      ]
    },
    {
      "cell_type": "markdown",
      "metadata": {
        "id": "mkuNvBmt3keA"
      },
      "source": [
        "## Initial Flight Conditions"
      ]
    },
    {
      "cell_type": "code",
      "metadata": {
        "colab": {
          "base_uri": "https://localhost:8080/"
        },
        "id": "EQ39n_5I3MQX",
        "outputId": "20c40b4e-9614-498f-bb2c-f10d7d3797a6"
      },
      "source": [
        "# Initial Conditions\n",
        "df.iloc[0, :] "
      ],
      "execution_count": 35,
      "outputs": [
        {
          "output_type": "execute_result",
          "data": {
            "text/plain": [
              "t      0.000000\n",
              "x      0.001000\n",
              "h      0.001000\n",
              "v      0.001000\n",
              "tht    1.570796\n",
              "Name: 0, dtype: float64"
            ]
          },
          "metadata": {
            "tags": []
          },
          "execution_count": 35
        }
      ]
    },
    {
      "cell_type": "markdown",
      "metadata": {
        "id": "zfxyuC5m3ivo"
      },
      "source": [
        "From this, we can see that the rocket started with an initial pitch angle of 1.57 rad, which implies the rocket started up standing upright."
      ]
    },
    {
      "cell_type": "markdown",
      "metadata": {
        "id": "KkAh2IqO3m5O"
      },
      "source": [
        "## Final Flight Conditions"
      ]
    },
    {
      "cell_type": "code",
      "metadata": {
        "colab": {
          "base_uri": "https://localhost:8080/"
        },
        "id": "I3wEFk2N3YPv",
        "outputId": "6b6d2023-c534-482a-bbde-9cdbe80af6d8"
      },
      "source": [
        "# Final Conditions\n",
        "df.iloc[-1, :] "
      ],
      "execution_count": 37,
      "outputs": [
        {
          "output_type": "execute_result",
          "data": {
            "text/plain": [
              "t         275.713582\n",
              "x      119190.740078\n",
              "h           0.000010\n",
              "v         162.685531\n",
              "tht         1.716363\n",
              "Name: 1142, dtype: float64"
            ]
          },
          "metadata": {
            "tags": []
          },
          "execution_count": 37
        }
      ]
    },
    {
      "cell_type": "markdown",
      "metadata": {
        "id": "EoDeDhz94E4a"
      },
      "source": [
        "From this, we can see that:\n",
        "\n",
        "- The rocket reached the ground successfully.\n",
        "- The rocket landed with a pitch angle of about 98 degrees.\n",
        "- The rocket landed with a velocity of 162.69 m/s.\n",
        "\n",
        "From this, we can make the following inferences:\n",
        "\n",
        "1. The PID controller works, as indicated by the pitch change.\n",
        "2. The rocket is falling at a high velocity, indicating we should increase the fuel reserved for landing."
      ]
    },
    {
      "cell_type": "markdown",
      "metadata": {
        "id": "v6x7dejR3po6"
      },
      "source": [
        "## Other Inferences"
      ]
    },
    {
      "cell_type": "code",
      "metadata": {
        "colab": {
          "base_uri": "https://localhost:8080/",
          "height": 297
        },
        "id": "V86LgwH4z_8q",
        "outputId": "800e1b08-51fa-4b22-a06c-cd7c70339568"
      },
      "source": [
        "df.describe()"
      ],
      "execution_count": 29,
      "outputs": [
        {
          "output_type": "execute_result",
          "data": {
            "text/html": [
              "<div>\n",
              "<style scoped>\n",
              "    .dataframe tbody tr th:only-of-type {\n",
              "        vertical-align: middle;\n",
              "    }\n",
              "\n",
              "    .dataframe tbody tr th {\n",
              "        vertical-align: top;\n",
              "    }\n",
              "\n",
              "    .dataframe thead th {\n",
              "        text-align: right;\n",
              "    }\n",
              "</style>\n",
              "<table border=\"1\" class=\"dataframe\">\n",
              "  <thead>\n",
              "    <tr style=\"text-align: right;\">\n",
              "      <th></th>\n",
              "      <th>t</th>\n",
              "      <th>x</th>\n",
              "      <th>h</th>\n",
              "      <th>v</th>\n",
              "      <th>tht</th>\n",
              "    </tr>\n",
              "  </thead>\n",
              "  <tbody>\n",
              "    <tr>\n",
              "      <th>count</th>\n",
              "      <td>1143.000000</td>\n",
              "      <td>1143.000000</td>\n",
              "      <td>1143.000000</td>\n",
              "      <td>1143.000000</td>\n",
              "      <td>1143.000000</td>\n",
              "    </tr>\n",
              "    <tr>\n",
              "      <th>mean</th>\n",
              "      <td>129.225792</td>\n",
              "      <td>48489.548080</td>\n",
              "      <td>14266.084848</td>\n",
              "      <td>513.725390</td>\n",
              "      <td>1.630348</td>\n",
              "    </tr>\n",
              "    <tr>\n",
              "      <th>std</th>\n",
              "      <td>77.525223</td>\n",
              "      <td>48172.128544</td>\n",
              "      <td>10110.606428</td>\n",
              "      <td>318.726247</td>\n",
              "      <td>0.848382</td>\n",
              "    </tr>\n",
              "    <tr>\n",
              "      <th>min</th>\n",
              "      <td>0.000000</td>\n",
              "      <td>0.000956</td>\n",
              "      <td>0.000010</td>\n",
              "      <td>0.001000</td>\n",
              "      <td>0.356004</td>\n",
              "    </tr>\n",
              "    <tr>\n",
              "      <th>25%</th>\n",
              "      <td>63.086178</td>\n",
              "      <td>2222.140578</td>\n",
              "      <td>4651.201270</td>\n",
              "      <td>253.917541</td>\n",
              "      <td>0.881126</td>\n",
              "    </tr>\n",
              "    <tr>\n",
              "      <th>50%</th>\n",
              "      <td>111.174474</td>\n",
              "      <td>26757.517854</td>\n",
              "      <td>13380.862467</td>\n",
              "      <td>458.168605</td>\n",
              "      <td>1.570796</td>\n",
              "    </tr>\n",
              "    <tr>\n",
              "      <th>75%</th>\n",
              "      <td>198.689546</td>\n",
              "      <td>103224.729204</td>\n",
              "      <td>23748.858611</td>\n",
              "      <td>736.085821</td>\n",
              "      <td>2.313150</td>\n",
              "    </tr>\n",
              "    <tr>\n",
              "      <th>max</th>\n",
              "      <td>275.713582</td>\n",
              "      <td>119190.740078</td>\n",
              "      <td>32353.300626</td>\n",
              "      <td>1216.174272</td>\n",
              "      <td>3.141593</td>\n",
              "    </tr>\n",
              "  </tbody>\n",
              "</table>\n",
              "</div>"
            ],
            "text/plain": [
              "                 t              x             h            v          tht\n",
              "count  1143.000000    1143.000000   1143.000000  1143.000000  1143.000000\n",
              "mean    129.225792   48489.548080  14266.084848   513.725390     1.630348\n",
              "std      77.525223   48172.128544  10110.606428   318.726247     0.848382\n",
              "min       0.000000       0.000956      0.000010     0.001000     0.356004\n",
              "25%      63.086178    2222.140578   4651.201270   253.917541     0.881126\n",
              "50%     111.174474   26757.517854  13380.862467   458.168605     1.570796\n",
              "75%     198.689546  103224.729204  23748.858611   736.085821     2.313150\n",
              "max     275.713582  119190.740078  32353.300626  1216.174272     3.141593"
            ]
          },
          "metadata": {
            "tags": []
          },
          "execution_count": 29
        }
      ]
    },
    {
      "cell_type": "markdown",
      "metadata": {
        "id": "tsROYnNP2iHl"
      },
      "source": [
        "From the above table, we can make the following inferences:\n",
        "\n",
        "1. The maximum altitude attained by the rocket was 32 km.\n",
        "2. The maximum velocity of the rocket was 1216.17 m/s.\n",
        "3. The maximum pitch angle of the rocket was pi radians (i.e., the rocket briefly was travelling horizontally)\n",
        "4. The rocket travelled 119.19 km downrange from the launchpad.\n",
        "5. The rocket was in motion for 275.71 seconds."
      ]
    },
    {
      "cell_type": "markdown",
      "metadata": {
        "id": "n4yu22wE1kk5"
      },
      "source": [
        "# Visualising the Data\n",
        "We plot the graphs to make more comprehensive inferences."
      ]
    },
    {
      "cell_type": "markdown",
      "metadata": {
        "id": "qSd_3Mgn82I9"
      },
      "source": [
        "## Altitude vs Time\n",
        "From this graph, we can infer that the rocket ascended and descended smoothly across the time of flight."
      ]
    },
    {
      "cell_type": "code",
      "metadata": {
        "colab": {
          "base_uri": "https://localhost:8080/",
          "height": 295
        },
        "id": "X50lRjKHzdvJ",
        "outputId": "c6efd125-2bca-4bad-9a7b-48b670968f9e"
      },
      "source": [
        "# Visualise h vs t\n",
        "df.plot(x='t', y='h', style='.')\n",
        "plt.xlabel(\"time\")\n",
        "plt.ylabel(\"altitude\")\n",
        "plt.title(\"altitude vs time\")\n",
        "plt.show()"
      ],
      "execution_count": 41,
      "outputs": [
        {
          "output_type": "display_data",
          "data": {
            "image/png": "[encoded data removed]",
            "text/plain": [
              "<Figure size 432x288 with 1 Axes>"
            ]
          },
          "metadata": {
            "tags": [],
            "needs_background": "light"
          }
        }
      ]
    },
    {
      "cell_type": "markdown",
      "metadata": {
        "id": "2KlGq6Xw864j"
      },
      "source": [
        "## Velocity vs Time\n",
        "From this graph, we can see that the velocity of the rocket was decreasing towards the end of the simulation. So, by adjusting the landing fuel reserves, we might be able to bring the touchdown velocity even further."
      ]
    },
    {
      "cell_type": "code",
      "metadata": {
        "colab": {
          "base_uri": "https://localhost:8080/",
          "height": 295
        },
        "id": "cRPEccfHzgVP",
        "outputId": "6facd4fd-9e1d-4603-b0b4-b1e13945994d"
      },
      "source": [
        "# Visualise v vs t\n",
        "df.plot(x='t', y='v', style='.')\n",
        "plt.xlabel(\"time\")\n",
        "plt.ylabel(\"velocity\")\n",
        "plt.title(\"velocity vs time\")\n",
        "plt.show()"
      ],
      "execution_count": 42,
      "outputs": [
        {
          "output_type": "display_data",
          "data": {
            "image/png": "[encoded data removed]",
            "text/plain": [
              "<Figure size 432x288 with 1 Axes>"
            ]
          },
          "metadata": {
            "tags": [],
            "needs_background": "light"
          }
        }
      ]
    },
    {
      "cell_type": "markdown",
      "metadata": {
        "id": "rzZmBqX_9AKS"
      },
      "source": [
        "## Velocity vs Altitude\n",
        "\n",
        "From this graph, we can see that the velocity of the rocket was decreasing as it started approaching the ground, implying the PID controller was working nominaly."
      ]
    },
    {
      "cell_type": "code",
      "metadata": {
        "colab": {
          "base_uri": "https://localhost:8080/",
          "height": 295
        },
        "id": "x3sVhNIp6cc4",
        "outputId": "79c6e3de-5269-4457-bd87-5927ea7dc0fc"
      },
      "source": [
        "# Visualise v vs h\n",
        "df.plot(x='v', y='h', style='.')\n",
        "plt.xlabel(\"velocity\")\n",
        "plt.ylabel(\"altitude\")\n",
        "plt.title(\"altitude vs velocity\")\n",
        "plt.show()"
      ],
      "execution_count": 47,
      "outputs": [
        {
          "output_type": "display_data",
          "data": {
            "image/png": "[encoded data removed]",
            "text/plain": [
              "<Figure size 432x288 with 1 Axes>"
            ]
          },
          "metadata": {
            "tags": [],
            "needs_background": "light"
          }
        }
      ]
    },
    {
      "cell_type": "markdown",
      "metadata": {
        "id": "nsL9lngH9FLO"
      },
      "source": [
        "## Downrange Position vs Time\n",
        "From this graph, we can see that the rocket was going downrange across the entire duration of the flight, and briefly (towards the middle of the flight) the rocket had a strong x-component of velocity."
      ]
    },
    {
      "cell_type": "code",
      "metadata": {
        "colab": {
          "base_uri": "https://localhost:8080/",
          "height": 295
        },
        "id": "aug9ug8CzjOd",
        "outputId": "bd4babd1-40ae-4a9d-f34a-c77f5946be62"
      },
      "source": [
        "# Visualise x vs t\n",
        "df.plot(x='t', y='x', style='.')\n",
        "plt.xlabel(\"time\")\n",
        "plt.ylabel(\"downrange position\")\n",
        "plt.title(\"downrange position vs time\")\n",
        "plt.show()"
      ],
      "execution_count": 43,
      "outputs": [
        {
          "output_type": "display_data",
          "data": {
            "image/png": "[encoded data removed]",
            "text/plain": [
              "<Figure size 432x288 with 1 Axes>"
            ]
          },
          "metadata": {
            "tags": [],
            "needs_background": "light"
          }
        }
      ]
    },
    {
      "cell_type": "markdown",
      "metadata": {
        "id": "NPk3mJvD9KQv"
      },
      "source": [
        "## Pitch Angle Vs Time\n",
        "From this graph, we can see that the pitch-over manuever worked successfully, as is indicated by the pitch angle jumps from 0 to pi radians. We can also see tha the PID controller was working nominally, correcting the pitch angle frequently to ensure the rocket stays upright during the second half of flight."
      ]
    },
    {
      "cell_type": "code",
      "metadata": {
        "colab": {
          "base_uri": "https://localhost:8080/",
          "height": 295
        },
        "id": "p3YQS4ELz3ZP",
        "outputId": "ea41dce9-6c94-45aa-c9d3-94abba64421b"
      },
      "source": [
        "# Visualise tht vs t\n",
        "df.plot(x='t', y='tht', style='.')\n",
        "plt.xlabel(\"time\")\n",
        "plt.ylabel(\"pitch angle\")\n",
        "plt.title(\"pitch angle vs time\")\n",
        "plt.show()"
      ],
      "execution_count": 44,
      "outputs": [
        {
          "output_type": "display_data",
          "data": {
            "image/png": "[encoded data removed]",
            "text/plain": [
              "<Figure size 432x288 with 1 Axes>"
            ]
          },
          "metadata": {
            "tags": [],
            "needs_background": "light"
          }
        }
      ]
    },
    {
      "cell_type": "markdown",
      "metadata": {
        "id": "wkLn7Mt07wK7"
      },
      "source": [
        "## Velocity vs Pitch Angle\n",
        "The left half of the plot is from the powered ascent phase, and the right half from the powered descent phase.\n",
        "\n",
        "From this plot, we can clearly see the pitch over manuever the rocket underwent, and also see how the PID controller was working to get the rocket as stable vertical as possible.\n",
        "\n"
      ]
    },
    {
      "cell_type": "code",
      "metadata": {
        "colab": {
          "base_uri": "https://localhost:8080/",
          "height": 295
        },
        "id": "V2HCnKdy7PAP",
        "outputId": "f0c4264c-574d-4e2a-e187-61bbdbab5b06"
      },
      "source": [
        "# Visualise v vs tht\n",
        "df.plot(x='tht', y='v', style='.')\n",
        "plt.xlabel(\"pitch angle\")\n",
        "plt.ylabel(\"velocity\")\n",
        "plt.title(\"velocity vs pitch angle\")\n",
        "plt.show()"
      ],
      "execution_count": 50,
      "outputs": [
        {
          "output_type": "display_data",
          "data": {
            "image/png": "[encoded data removed]",
            "text/plain": [
              "<Figure size 432x288 with 1 Axes>"
            ]
          },
          "metadata": {
            "tags": [],
            "needs_background": "light"
          }
        }
      ]
    },
    {
      "cell_type": "markdown",
      "metadata": {
        "id": "5c0rRPx-5u3-"
      },
      "source": [
        "# Conclusions\n",
        "\n",
        "- The PID controller works, but can be improved significantly.\n",
        "- The split up of fuel between the two stages can be modified to improve performance."
      ]
    },
    {
      "cell_type": "markdown",
      "metadata": {
        "id": "sXYeIcOn9ZOV"
      },
      "source": [
        "# Future Work\n",
        "\n",
        "- Using Reinforcement Learning to identify better values for the PID controller.\n",
        "- Using a more robust atmospheric model to calculate Drag.\n",
        "- I assumed constant mass flow rate and 100% engine efficiency for the rocket for this simulation. In the future, we could look into more realistic models for the same."
      ]
    }
  ]
}